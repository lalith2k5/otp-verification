{
  "cells": [
    {
      "cell_type": "markdown",
      "id": "31d9a4c9",
      "metadata": {
        "origin_pos": 0,
        "id": "31d9a4c9"
      },
      "source": [
        "# Using Jupyter Notebooks\n",
        ":label:`sec_jupyter`\n",
        "\n",
        "\n",
        "This section describes how to edit and run the code\n",
        "in each section of this book\n",
        "using the Jupyter Notebook. Make sure you have\n",
        "installed Jupyter and downloaded the\n",
        "code as described in\n",
        ":ref:`chap_installation`.\n",
        "If you want to know more about Jupyter see the excellent tutorial in\n",
        "their [documentation](https://jupyter.readthedocs.io/en/latest/).\n",
        "\n",
        "\n",
        "## Editing and Running the Code Locally\n",
        "\n",
        "Suppose that the local path of the book's code is `xx/yy/d2l-en/`. Use the shell to change the directory to this path (`cd xx/yy/d2l-en`) and run the command `jupyter notebook`. If your browser does not do this automatically, open http://localhost:8888 and you will see the interface of Jupyter and all the folders containing the code of the book, as shown in :numref:`fig_jupyter00`.\n",
        "\n",
        "![The folders containing the code of this book.](https://github.com/d2l-ai/d2l-en-colab/blob/master/img/jupyter00.png?raw=1)\n",
        ":width:`600px`\n",
        ":label:`fig_jupyter00`\n",
        "\n",
        "\n",
        "You can access the notebook files by clicking on the folder displayed on the webpage.\n",
        "They usually have the suffix \".ipynb\".\n",
        "For the sake of brevity, we create a temporary \"test.ipynb\" file.\n",
        "The content displayed after you click it is\n",
        "shown in :numref:`fig_jupyter01`.\n",
        "This notebook includes a markdown cell and a code cell. The content in the markdown cell includes \"This Is a Title\" and \"This is text.\".\n",
        "The code cell contains two lines of Python code.\n",
        "\n",
        "![Markdown and code cells in the \"text.ipynb\" file.](https://github.com/d2l-ai/d2l-en-colab/blob/master/img/jupyter01.png?raw=1)\n",
        ":width:`600px`\n",
        ":label:`fig_jupyter01`\n",
        "\n",
        "\n",
        "Double click on the markdown cell to enter edit mode.\n",
        "Add a new text string \"Hello world.\" at the end of the cell, as shown in :numref:`fig_jupyter02`.\n",
        "\n",
        "![Edit the markdown cell.](https://github.com/d2l-ai/d2l-en-colab/blob/master/img/jupyter02.png?raw=1)\n",
        ":width:`600px`\n",
        ":label:`fig_jupyter02`\n",
        "\n",
        "\n",
        "As demonstrated in :numref:`fig_jupyter03`,\n",
        "click \"Cell\" $\\rightarrow$ \"Run Cells\" in the menu bar to run the edited cell.\n",
        "\n",
        "![Run the cell.](https://github.com/d2l-ai/d2l-en-colab/blob/master/img/jupyter03.png?raw=1)\n",
        ":width:`600px`\n",
        ":label:`fig_jupyter03`\n",
        "\n",
        "After running, the markdown cell is shown in :numref:`fig_jupyter04`.\n",
        "\n",
        "![The markdown cell after running.](https://github.com/d2l-ai/d2l-en-colab/blob/master/img/jupyter04.png?raw=1)\n",
        ":width:`600px`\n",
        ":label:`fig_jupyter04`\n",
        "\n",
        "\n",
        "Next, click on the code cell. Multiply the elements by 2 after the last line of code, as shown in :numref:`fig_jupyter05`.\n",
        "\n",
        "![Edit the code cell.](https://github.com/d2l-ai/d2l-en-colab/blob/master/img/jupyter05.png?raw=1)\n",
        ":width:`600px`\n",
        ":label:`fig_jupyter05`\n",
        "\n",
        "\n",
        "You can also run the cell with a shortcut (\"Ctrl + Enter\" by default) and obtain the output result from :numref:`fig_jupyter06`.\n",
        "\n",
        "![Run the code cell to obtain the output.](https://github.com/d2l-ai/d2l-en-colab/blob/master/img/jupyter06.png?raw=1)\n",
        ":width:`600px`\n",
        ":label:`fig_jupyter06`\n",
        "\n",
        "\n",
        "When a notebook contains more cells, we can click \"Kernel\" $\\rightarrow$ \"Restart & Run All\" in the menu bar to run all the cells in the entire notebook. By clicking \"Help\" $\\rightarrow$ \"Edit Keyboard Shortcuts\" in the menu bar, you can edit the shortcuts according to your preferences.\n",
        "\n",
        "## Advanced Options\n",
        "\n",
        "Beyond local editing two things are quite important: editing the notebooks in the markdown format and running Jupyter remotely.\n",
        "The latter matters when we want to run the code on a faster server.\n",
        "The former matters since Jupyter's native ipynb format stores a lot of auxiliary data that is\n",
        "irrelevant to the content,\n",
        "mostly related to how and where the code is run.\n",
        "This is confusing for Git, making\n",
        "reviewing contributions very difficult.\n",
        "Fortunately there is an alternative---native editing in the markdown format.\n",
        "\n",
        "### Markdown Files in Jupyter\n",
        "\n",
        "If you wish to contribute to the content of this book, you need to modify the\n",
        "source file (md file, not ipynb file) on GitHub.\n",
        "Using the notedown plugin we\n",
        "can modify notebooks in the md format directly in Jupyter.\n",
        "\n",
        "\n",
        "First, install the notedown plugin, run the Jupyter Notebook, and load the plugin:\n",
        "\n",
        "```\n",
        "pip install d2l-notedown  # You may need to uninstall the original notedown.\n",
        "jupyter notebook --NotebookApp.contents_manager_class='notedown.NotedownContentsManager'\n",
        "```\n",
        "\n",
        "You may also turn on the notedown plugin by default whenever you run the Jupyter Notebook.\n",
        "First, generate a Jupyter Notebook configuration file (if it has already been generated, you can skip this step).\n",
        "\n",
        "```\n",
        "jupyter notebook --generate-config\n",
        "```\n",
        "\n",
        "Then, add the following line to the end of the Jupyter Notebook configuration file (for Linux or macOS, usually in the path `~/.jupyter/jupyter_notebook_config.py`):\n",
        "\n",
        "```\n",
        "c.NotebookApp.contents_manager_class = 'notedown.NotedownContentsManager'\n",
        "```\n",
        "\n",
        "After that, you only need to run the `jupyter notebook` command to turn on the notedown plugin by default.\n",
        "\n",
        "### Running Jupyter Notebooks on a Remote Server\n",
        "\n",
        "Sometimes, you may want to run Jupyter notebooks on a remote server and access it through a browser on your local computer. If Linux or macOS is installed on your local machine (Windows can also support this function through third-party software such as PuTTY), you can use port forwarding:\n",
        "\n",
        "```\n",
        "ssh myserver -L 8888:localhost:8888\n",
        "```\n",
        "\n",
        "The above string `myserver` is the address of the remote server.\n",
        "Then we can use http://localhost:8888 to access the remote server `myserver` that runs Jupyter notebooks. We will detail on how to run Jupyter notebooks on AWS instances\n",
        "later in this appendix.\n",
        "\n",
        "### Timing\n",
        "\n",
        "We can use the `ExecuteTime` plugin to time the execution of each code cell in Jupyter notebooks.\n",
        "Use the following commands to install the plugin:\n",
        "\n",
        "```\n",
        "pip install jupyter_contrib_nbextensions\n",
        "jupyter contrib nbextension install --user\n",
        "jupyter nbextension enable execute_time/ExecuteTime\n",
        "```\n",
        "\n",
        "## Summary\n",
        "\n",
        "* Using the Jupyter Notebook tool, we can edit, run, and contribute to each section of the book.\n",
        "* We can run Jupyter notebooks on remote servers using port forwarding.\n",
        "\n",
        "\n",
        "## Exercises\n",
        "\n",
        "1. Edit and run the code in this book with the Jupyter Notebook on your local machine.\n",
        "1. Edit and run the code in this book with the Jupyter Notebook *remotely* via port forwarding.\n",
        "1. Compare the running time of the operations $\\mathbf{A}^\\top \\mathbf{B}$ and $\\mathbf{A} \\mathbf{B}$ for two square matrices in $\\mathbb{R}^{1024 \\times 1024}$. Which one is faster?\n",
        "\n",
        "\n",
        "[Discussions](https://discuss.d2l.ai/t/421)\n"
      ]
    },
    {
      "cell_type": "code",
      "source": [
        "a=int(input('enter a'))\n",
        "b=int(input('enter b'))\n",
        "c=int(input('enter c'))\n",
        "if a>b and a>c:\n",
        "    print('a is greater')\n",
        "\n",
        "elif b>c:\n",
        "    print('b is greater')\n",
        "else:\n",
        "    print('c is greater')"
      ],
      "metadata": {
        "colab": {
          "base_uri": "https://localhost:8080/"
        },
        "id": "RFS_MqA2dJTL",
        "outputId": "712b8719-26c2-40a5-bb37-26f36d03a099"
      },
      "id": "RFS_MqA2dJTL",
      "execution_count": 1,
      "outputs": [
        {
          "output_type": "stream",
          "name": "stdout",
          "text": [
            "enter a1\n",
            "enter b2\n",
            "enter c3\n",
            "c is greater\n"
          ]
        }
      ]
    },
    {
      "cell_type": "code",
      "source": [
        "age=int(input('enter your age'))\n",
        "if age>=18:\n",
        "   print('eligible for vote')\n",
        "else:\n",
        "   print('not eligible for vote')"
      ],
      "metadata": {
        "colab": {
          "base_uri": "https://localhost:8080/"
        },
        "id": "ATr7WwZCgrsV",
        "outputId": "ad62a537-baf0-4358-f956-cdf6ff3740dc"
      },
      "id": "ATr7WwZCgrsV",
      "execution_count": 2,
      "outputs": [
        {
          "output_type": "stream",
          "name": "stdout",
          "text": [
            "enter your age17\n",
            "not eligible for vote\n"
          ]
        }
      ]
    },
    {
      "cell_type": "code",
      "source": [
        "a=int(input('enter a'))\n",
        "b=int(input('enter b'))\n",
        "c=int(input('enter c'))\n",
        "d=(b**2)-(4*a*c)\n",
        "if d==0:\n",
        "    print('roots are real and equal')\n",
        "elif d>0:\n",
        "    print('roots are real and distinct')\n",
        "else:\n",
        "    print('roots are complex')"
      ],
      "metadata": {
        "colab": {
          "base_uri": "https://localhost:8080/"
        },
        "id": "5zEf4flAiQZW",
        "outputId": "12a20d42-7f95-4223-caba-c50afbac4843"
      },
      "id": "5zEf4flAiQZW",
      "execution_count": 4,
      "outputs": [
        {
          "output_type": "stream",
          "name": "stdout",
          "text": [
            "enter a2\n",
            "enter b4\n",
            "enter c7\n",
            "roots are complex\n"
          ]
        }
      ]
    },
    {
      "cell_type": "code",
      "source": [
        "a=int(input('enter year'))\n",
        "if a%4==0:\n",
        "    if a%100==0:\n",
        "        if a%400==0:\n",
        "            print(\"it is a leap year\")\n",
        "        else:\n",
        "            print(\"it is not a leap year\")\n",
        "    else:\n",
        "        print(\"it is a leap year\")\n",
        "else:\n",
        "    print(\"it is not a leap year\")"
      ],
      "metadata": {
        "colab": {
          "base_uri": "https://localhost:8080/"
        },
        "id": "WzR2kGuqkO0_",
        "outputId": "51cf3e84-e6f8-4cae-9426-bb2f99823e18"
      },
      "id": "WzR2kGuqkO0_",
      "execution_count": 8,
      "outputs": [
        {
          "output_type": "stream",
          "name": "stdout",
          "text": [
            "enter year2021\n",
            "it is not a leap year\n"
          ]
        }
      ]
    },
    {
      "cell_type": "code",
      "source": [
        "n=int(input(\"enter a number\"))\n",
        "if n>1:\n",
        "    for i in range(2,n):\n",
        "        if n%i==0:\n",
        "            print(\"it is not a prime number\")\n",
        "            break\n",
        "        else:\n",
        "            print(\"it is a prime number\")"
      ],
      "metadata": {
        "colab": {
          "base_uri": "https://localhost:8080/"
        },
        "id": "MMOnxvc1pKMO",
        "outputId": "71172a1d-3a76-4f38-afa2-fddde1f9fda7"
      },
      "id": "MMOnxvc1pKMO",
      "execution_count": 2,
      "outputs": [
        {
          "output_type": "stream",
          "name": "stdout",
          "text": [
            "enter a number3\n",
            "it is a prime number\n"
          ]
        }
      ]
    },
    {
      "cell_type": "code",
      "source": [
        "s1=int(input(\"enter sub1 marks\"))\n",
        "s2=int(input(\"enter sub2 marks\"))\n",
        "s3=int(input(\"enter sub3 marks\"))\n",
        "s4=int(input(\"enter sub4 marks\"))\n",
        "s5=int(input(\"enter sub5 marks\"))\n",
        "avg=(s1+s2+s3+s4+s5)/5\n",
        "if avg>=90:\n",
        "    print(\"grade A\")\n",
        "elif avg>=80:\n",
        "    print(\"grade B\")\n",
        "elif avg>=70:\n",
        "    print(\"grade C\")\n",
        "else:\n",
        "    print(\"FAIL\")"
      ],
      "metadata": {
        "id": "0XZW2tilxrqu",
        "outputId": "90b26e68-7cb3-488b-a7c8-37eb3920ee38",
        "colab": {
          "base_uri": "https://localhost:8080/"
        }
      },
      "id": "0XZW2tilxrqu",
      "execution_count": 17,
      "outputs": [
        {
          "output_type": "stream",
          "name": "stdout",
          "text": [
            "enter sub1 marks20\n",
            "enter sub2 marks40\n",
            "enter sub3 marks50\n",
            "enter sub4 marks39\n",
            "enter sub5 marks43\n",
            "FAIL\n"
          ]
        }
      ]
    },
    {
      "cell_type": "code",
      "source": [
        "age=int(input(\"enter age\"))\n",
        "if age>=60:\n",
        "    print(\"senior citizen\")\n",
        "elif age>=25 and age<60:\n",
        "    print(\"working citizen\")\n",
        "elif age>=16 and age<25:\n",
        "    print(\"college student\")\n",
        "elif age>=4  and age<16:\n",
        "    print(\"school kid\")\n",
        "elif age>=1  and age<4:\n",
        "    print(\"play kid\")\n",
        "else:\n",
        "    print(\"invalid\")"
      ],
      "metadata": {
        "id": "D1pvdGvK0Jnn",
        "outputId": "929b1408-4524-493e-9d5b-969a178c3b22",
        "colab": {
          "base_uri": "https://localhost:8080/"
        }
      },
      "id": "D1pvdGvK0Jnn",
      "execution_count": 21,
      "outputs": [
        {
          "output_type": "stream",
          "name": "stdout",
          "text": [
            "enter age60\n",
            "senior citizen\n"
          ]
        }
      ]
    },
    {
      "cell_type": "code",
      "source": [
        "n=int(input(\"enter num\"))\n",
        "while n!=0:\n",
        "    f=n*(n-1)\n",
        "    n=n-2\n",
        "else:\n",
        "    print(f)\n",
        ""
      ],
      "metadata": {
        "id": "ctqbF1NQ4EFQ",
        "outputId": "97446951-5155-4e58-cb0b-e2d9018b543d",
        "colab": {
          "base_uri": "https://localhost:8080/"
        }
      },
      "id": "ctqbF1NQ4EFQ",
      "execution_count": 29,
      "outputs": [
        {
          "output_type": "stream",
          "name": "stdout",
          "text": [
            "enter num4\n",
            "2\n"
          ]
        }
      ]
    }
  ],
  "metadata": {
    "kernelspec": {
      "display_name": "Python 3",
      "name": "python3"
    },
    "language_info": {
      "name": "python"
    },
    "required_libs": [],
    "colab": {
      "provenance": []
    }
  },
  "nbformat": 4,
  "nbformat_minor": 5
}